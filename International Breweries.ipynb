{
 "cells": [
  {
   "cell_type": "code",
   "execution_count": 1,
   "metadata": {},
   "outputs": [],
   "source": [
    "#import libaries"
   ]
  },
  {
   "cell_type": "code",
   "execution_count": 2,
   "metadata": {},
   "outputs": [],
   "source": [
    "import numpy as np\n",
    "import pandas as pd\n",
    "import matplotlib.pyplot as plt\n",
    "%matplotlib inline\n",
    "import seaborn as sns"
   ]
  },
  {
   "cell_type": "code",
   "execution_count": 3,
   "metadata": {},
   "outputs": [],
   "source": [
    "#import csv file"
   ]
  },
  {
   "cell_type": "code",
   "execution_count": 4,
   "metadata": {},
   "outputs": [],
   "source": [
    "data = pd.read_csv('International_Breweries.csv')"
   ]
  },
  {
   "cell_type": "code",
   "execution_count": 5,
   "metadata": {},
   "outputs": [
    {
     "data": {
      "text/html": [
       "<div>\n",
       "<style scoped>\n",
       "    .dataframe tbody tr th:only-of-type {\n",
       "        vertical-align: middle;\n",
       "    }\n",
       "\n",
       "    .dataframe tbody tr th {\n",
       "        vertical-align: top;\n",
       "    }\n",
       "\n",
       "    .dataframe thead th {\n",
       "        text-align: right;\n",
       "    }\n",
       "</style>\n",
       "<table border=\"1\" class=\"dataframe\">\n",
       "  <thead>\n",
       "    <tr style=\"text-align: right;\">\n",
       "      <th></th>\n",
       "      <th>SALES_ID</th>\n",
       "      <th>SALES_REP</th>\n",
       "      <th>EMAILS</th>\n",
       "      <th>BRANDS</th>\n",
       "      <th>PLANT_COST</th>\n",
       "      <th>UNIT_PRICE</th>\n",
       "      <th>QUANTITY</th>\n",
       "      <th>COST</th>\n",
       "      <th>PROFIT</th>\n",
       "      <th>COUNTRIES</th>\n",
       "      <th>REGION</th>\n",
       "      <th>MONTHS</th>\n",
       "      <th>YEARS</th>\n",
       "    </tr>\n",
       "  </thead>\n",
       "  <tbody>\n",
       "    <tr>\n",
       "      <th>0</th>\n",
       "      <td>10101</td>\n",
       "      <td>Jardine</td>\n",
       "      <td>jard@gmail.com</td>\n",
       "      <td>trophy</td>\n",
       "      <td>150</td>\n",
       "      <td>200</td>\n",
       "      <td>725</td>\n",
       "      <td>145000</td>\n",
       "      <td>36250</td>\n",
       "      <td>Ghana</td>\n",
       "      <td>Southeast</td>\n",
       "      <td>January</td>\n",
       "      <td>2019</td>\n",
       "    </tr>\n",
       "    <tr>\n",
       "      <th>1</th>\n",
       "      <td>10102</td>\n",
       "      <td>Gill</td>\n",
       "      <td>gillhell@uk.com</td>\n",
       "      <td>budweiser</td>\n",
       "      <td>250</td>\n",
       "      <td>500</td>\n",
       "      <td>815</td>\n",
       "      <td>407500</td>\n",
       "      <td>203750</td>\n",
       "      <td>Nigeria</td>\n",
       "      <td>west</td>\n",
       "      <td>February</td>\n",
       "      <td>2018</td>\n",
       "    </tr>\n",
       "    <tr>\n",
       "      <th>2</th>\n",
       "      <td>10103</td>\n",
       "      <td>Sorvino</td>\n",
       "      <td>sorvi2000@gmail.com</td>\n",
       "      <td>castle lite</td>\n",
       "      <td>180</td>\n",
       "      <td>450</td>\n",
       "      <td>937</td>\n",
       "      <td>421650</td>\n",
       "      <td>252990</td>\n",
       "      <td>Togo</td>\n",
       "      <td>southsouth</td>\n",
       "      <td>March</td>\n",
       "      <td>2018</td>\n",
       "    </tr>\n",
       "    <tr>\n",
       "      <th>3</th>\n",
       "      <td>10104</td>\n",
       "      <td>Jones</td>\n",
       "      <td>jone.ai@yahoo.com</td>\n",
       "      <td>eagle lager</td>\n",
       "      <td>170</td>\n",
       "      <td>250</td>\n",
       "      <td>765</td>\n",
       "      <td>191250</td>\n",
       "      <td>61200</td>\n",
       "      <td>Benin</td>\n",
       "      <td>northwest</td>\n",
       "      <td>April</td>\n",
       "      <td>2018</td>\n",
       "    </tr>\n",
       "    <tr>\n",
       "      <th>4</th>\n",
       "      <td>10105</td>\n",
       "      <td>Andrews</td>\n",
       "      <td>andy@gmail.com</td>\n",
       "      <td>hero</td>\n",
       "      <td>150</td>\n",
       "      <td>200</td>\n",
       "      <td>836</td>\n",
       "      <td>167200</td>\n",
       "      <td>41800</td>\n",
       "      <td>Senegal</td>\n",
       "      <td>northeast</td>\n",
       "      <td>May</td>\n",
       "      <td>2017</td>\n",
       "    </tr>\n",
       "  </tbody>\n",
       "</table>\n",
       "</div>"
      ],
      "text/plain": [
       "   SALES_ID SALES_REP               EMAILS       BRANDS  PLANT_COST  \\\n",
       "0     10101   Jardine       jard@gmail.com       trophy         150   \n",
       "1     10102      Gill      gillhell@uk.com    budweiser         250   \n",
       "2     10103   Sorvino  sorvi2000@gmail.com  castle lite         180   \n",
       "3     10104     Jones    jone.ai@yahoo.com  eagle lager         170   \n",
       "4     10105   Andrews       andy@gmail.com         hero         150   \n",
       "\n",
       "   UNIT_PRICE  QUANTITY    COST  PROFIT COUNTRIES     REGION     MONTHS  YEARS  \n",
       "0         200       725  145000   36250     Ghana   Southeast   January   2019  \n",
       "1         500       815  407500  203750   Nigeria        west  February   2018  \n",
       "2         450       937  421650  252990      Togo  southsouth     March   2018  \n",
       "3         250       765  191250   61200     Benin   northwest     April   2018  \n",
       "4         200       836  167200   41800   Senegal  northeast        May   2017  "
      ]
     },
     "execution_count": 5,
     "metadata": {},
     "output_type": "execute_result"
    }
   ],
   "source": [
    "data.head()"
   ]
  },
  {
   "cell_type": "code",
   "execution_count": 6,
   "metadata": {},
   "outputs": [
    {
     "name": "stdout",
     "output_type": "stream",
     "text": [
      "<class 'pandas.core.frame.DataFrame'>\n",
      "RangeIndex: 1047 entries, 0 to 1046\n",
      "Data columns (total 13 columns):\n",
      " #   Column      Non-Null Count  Dtype \n",
      "---  ------      --------------  ----- \n",
      " 0   SALES_ID    1047 non-null   int64 \n",
      " 1   SALES_REP   1047 non-null   object\n",
      " 2   EMAILS      1047 non-null   object\n",
      " 3   BRANDS      1047 non-null   object\n",
      " 4   PLANT_COST  1047 non-null   int64 \n",
      " 5   UNIT_PRICE  1047 non-null   int64 \n",
      " 6   QUANTITY    1047 non-null   int64 \n",
      " 7   COST        1047 non-null   int64 \n",
      " 8   PROFIT      1047 non-null   int64 \n",
      " 9   COUNTRIES   1047 non-null   object\n",
      " 10  REGION      1047 non-null   object\n",
      " 11  MONTHS      1047 non-null   object\n",
      " 12  YEARS       1047 non-null   int64 \n",
      "dtypes: int64(7), object(6)\n",
      "memory usage: 81.9+ KB\n"
     ]
    }
   ],
   "source": [
    "data.info()"
   ]
  },
  {
   "cell_type": "code",
   "execution_count": 7,
   "metadata": {},
   "outputs": [
    {
     "data": {
      "text/plain": [
       "SALES_ID      0\n",
       "SALES_REP     0\n",
       "EMAILS        0\n",
       "BRANDS        0\n",
       "PLANT_COST    0\n",
       "UNIT_PRICE    0\n",
       "QUANTITY      0\n",
       "COST          0\n",
       "PROFIT        0\n",
       "COUNTRIES     0\n",
       "REGION        0\n",
       "MONTHS        0\n",
       "YEARS         0\n",
       "dtype: int64"
      ]
     },
     "execution_count": 7,
     "metadata": {},
     "output_type": "execute_result"
    }
   ],
   "source": [
    "data.isnull().sum()"
   ]
  },
  {
   "cell_type": "code",
   "execution_count": 8,
   "metadata": {},
   "outputs": [
    {
     "data": {
      "text/html": [
       "<div>\n",
       "<style scoped>\n",
       "    .dataframe tbody tr th:only-of-type {\n",
       "        vertical-align: middle;\n",
       "    }\n",
       "\n",
       "    .dataframe tbody tr th {\n",
       "        vertical-align: top;\n",
       "    }\n",
       "\n",
       "    .dataframe thead th {\n",
       "        text-align: right;\n",
       "    }\n",
       "</style>\n",
       "<table border=\"1\" class=\"dataframe\">\n",
       "  <thead>\n",
       "    <tr style=\"text-align: right;\">\n",
       "      <th></th>\n",
       "      <th>SALES_ID</th>\n",
       "      <th>PLANT_COST</th>\n",
       "      <th>UNIT_PRICE</th>\n",
       "      <th>QUANTITY</th>\n",
       "      <th>COST</th>\n",
       "      <th>PROFIT</th>\n",
       "      <th>YEARS</th>\n",
       "    </tr>\n",
       "  </thead>\n",
       "  <tbody>\n",
       "    <tr>\n",
       "      <th>count</th>\n",
       "      <td>1047.000000</td>\n",
       "      <td>1047.000000</td>\n",
       "      <td>1047.000000</td>\n",
       "      <td>1047.000000</td>\n",
       "      <td>1047.000000</td>\n",
       "      <td>1047.000000</td>\n",
       "      <td>1047.000000</td>\n",
       "    </tr>\n",
       "    <tr>\n",
       "      <th>mean</th>\n",
       "      <td>10624.000000</td>\n",
       "      <td>152.989494</td>\n",
       "      <td>271.728749</td>\n",
       "      <td>850.737345</td>\n",
       "      <td>231034.049666</td>\n",
       "      <td>100847.583572</td>\n",
       "      <td>2017.941738</td>\n",
       "    </tr>\n",
       "    <tr>\n",
       "      <th>std</th>\n",
       "      <td>302.387169</td>\n",
       "      <td>53.125477</td>\n",
       "      <td>133.378553</td>\n",
       "      <td>86.991652</td>\n",
       "      <td>115658.626612</td>\n",
       "      <td>77581.775930</td>\n",
       "      <td>0.808325</td>\n",
       "    </tr>\n",
       "    <tr>\n",
       "      <th>min</th>\n",
       "      <td>10101.000000</td>\n",
       "      <td>80.000000</td>\n",
       "      <td>150.000000</td>\n",
       "      <td>700.000000</td>\n",
       "      <td>105300.000000</td>\n",
       "      <td>35000.000000</td>\n",
       "      <td>2017.000000</td>\n",
       "    </tr>\n",
       "    <tr>\n",
       "      <th>25%</th>\n",
       "      <td>10362.500000</td>\n",
       "      <td>90.000000</td>\n",
       "      <td>150.000000</td>\n",
       "      <td>776.000000</td>\n",
       "      <td>141425.000000</td>\n",
       "      <td>46880.000000</td>\n",
       "      <td>2017.000000</td>\n",
       "    </tr>\n",
       "    <tr>\n",
       "      <th>50%</th>\n",
       "      <td>10624.000000</td>\n",
       "      <td>150.000000</td>\n",
       "      <td>200.000000</td>\n",
       "      <td>853.000000</td>\n",
       "      <td>184400.000000</td>\n",
       "      <td>58080.000000</td>\n",
       "      <td>2018.000000</td>\n",
       "    </tr>\n",
       "    <tr>\n",
       "      <th>75%</th>\n",
       "      <td>10885.500000</td>\n",
       "      <td>180.000000</td>\n",
       "      <td>450.000000</td>\n",
       "      <td>927.000000</td>\n",
       "      <td>351450.000000</td>\n",
       "      <td>191205.000000</td>\n",
       "      <td>2019.000000</td>\n",
       "    </tr>\n",
       "    <tr>\n",
       "      <th>max</th>\n",
       "      <td>11147.000000</td>\n",
       "      <td>250.000000</td>\n",
       "      <td>500.000000</td>\n",
       "      <td>1000.000000</td>\n",
       "      <td>499500.000000</td>\n",
       "      <td>269190.000000</td>\n",
       "      <td>2019.000000</td>\n",
       "    </tr>\n",
       "  </tbody>\n",
       "</table>\n",
       "</div>"
      ],
      "text/plain": [
       "           SALES_ID   PLANT_COST   UNIT_PRICE     QUANTITY           COST  \\\n",
       "count   1047.000000  1047.000000  1047.000000  1047.000000    1047.000000   \n",
       "mean   10624.000000   152.989494   271.728749   850.737345  231034.049666   \n",
       "std      302.387169    53.125477   133.378553    86.991652  115658.626612   \n",
       "min    10101.000000    80.000000   150.000000   700.000000  105300.000000   \n",
       "25%    10362.500000    90.000000   150.000000   776.000000  141425.000000   \n",
       "50%    10624.000000   150.000000   200.000000   853.000000  184400.000000   \n",
       "75%    10885.500000   180.000000   450.000000   927.000000  351450.000000   \n",
       "max    11147.000000   250.000000   500.000000  1000.000000  499500.000000   \n",
       "\n",
       "              PROFIT        YEARS  \n",
       "count    1047.000000  1047.000000  \n",
       "mean   100847.583572  2017.941738  \n",
       "std     77581.775930     0.808325  \n",
       "min     35000.000000  2017.000000  \n",
       "25%     46880.000000  2017.000000  \n",
       "50%     58080.000000  2018.000000  \n",
       "75%    191205.000000  2019.000000  \n",
       "max    269190.000000  2019.000000  "
      ]
     },
     "execution_count": 8,
     "metadata": {},
     "output_type": "execute_result"
    }
   ],
   "source": [
    "data.describe()"
   ]
  },
  {
   "cell_type": "code",
   "execution_count": 9,
   "metadata": {},
   "outputs": [],
   "source": [
    "#/*PROFIT ANALYSIS*/\n",
    "#1. /*Within the space of the last three years, what was the profit worth of the breweries,\n",
    "#inclusive of the anglophone and the francophone territories"
   ]
  },
  {
   "cell_type": "code",
   "execution_count": 10,
   "metadata": {},
   "outputs": [
    {
     "data": {
      "text/plain": [
       "105587420"
      ]
     },
     "execution_count": 10,
     "metadata": {},
     "output_type": "execute_result"
    }
   ],
   "source": [
    "data['PROFIT'].sum()"
   ]
  },
  {
   "cell_type": "markdown",
   "metadata": {},
   "source": [
    "The total profit made by the breweries in 2017, 2018 and 2019 is 105,587,420 "
   ]
  },
  {
   "cell_type": "code",
   "execution_count": 11,
   "metadata": {},
   "outputs": [],
   "source": [
    "#2./*Compare the total profit between these two territories in order for the territory manager, \n",
    "#Mr. Stone make strategic decision that will aid profit maximization in 2020*/"
   ]
  },
  {
   "cell_type": "code",
   "execution_count": 12,
   "metadata": {},
   "outputs": [
    {
     "data": {
      "text/html": [
       "<div>\n",
       "<style scoped>\n",
       "    .dataframe tbody tr th:only-of-type {\n",
       "        vertical-align: middle;\n",
       "    }\n",
       "\n",
       "    .dataframe tbody tr th {\n",
       "        vertical-align: top;\n",
       "    }\n",
       "\n",
       "    .dataframe thead th {\n",
       "        text-align: right;\n",
       "    }\n",
       "</style>\n",
       "<table border=\"1\" class=\"dataframe\">\n",
       "  <thead>\n",
       "    <tr style=\"text-align: right;\">\n",
       "      <th></th>\n",
       "      <th>COUNTRIES</th>\n",
       "      <th>PROFIT</th>\n",
       "    </tr>\n",
       "  </thead>\n",
       "  <tbody>\n",
       "    <tr>\n",
       "      <th>0</th>\n",
       "      <td>Ghana</td>\n",
       "      <td>36250</td>\n",
       "    </tr>\n",
       "    <tr>\n",
       "      <th>1</th>\n",
       "      <td>Nigeria</td>\n",
       "      <td>203750</td>\n",
       "    </tr>\n",
       "    <tr>\n",
       "      <th>2</th>\n",
       "      <td>Togo</td>\n",
       "      <td>252990</td>\n",
       "    </tr>\n",
       "    <tr>\n",
       "      <th>3</th>\n",
       "      <td>Benin</td>\n",
       "      <td>61200</td>\n",
       "    </tr>\n",
       "    <tr>\n",
       "      <th>4</th>\n",
       "      <td>Senegal</td>\n",
       "      <td>41800</td>\n",
       "    </tr>\n",
       "    <tr>\n",
       "      <th>...</th>\n",
       "      <td>...</td>\n",
       "      <td>...</td>\n",
       "    </tr>\n",
       "    <tr>\n",
       "      <th>1042</th>\n",
       "      <td>Togo</td>\n",
       "      <td>57720</td>\n",
       "    </tr>\n",
       "    <tr>\n",
       "      <th>1043</th>\n",
       "      <td>Benin</td>\n",
       "      <td>44600</td>\n",
       "    </tr>\n",
       "    <tr>\n",
       "      <th>1044</th>\n",
       "      <td>Senegal</td>\n",
       "      <td>204000</td>\n",
       "    </tr>\n",
       "    <tr>\n",
       "      <th>1045</th>\n",
       "      <td>Ghana</td>\n",
       "      <td>253530</td>\n",
       "    </tr>\n",
       "    <tr>\n",
       "      <th>1046</th>\n",
       "      <td>Nigeria</td>\n",
       "      <td>74800</td>\n",
       "    </tr>\n",
       "  </tbody>\n",
       "</table>\n",
       "<p>1047 rows × 2 columns</p>\n",
       "</div>"
      ],
      "text/plain": [
       "     COUNTRIES  PROFIT\n",
       "0        Ghana   36250\n",
       "1      Nigeria  203750\n",
       "2         Togo  252990\n",
       "3        Benin   61200\n",
       "4      Senegal   41800\n",
       "...        ...     ...\n",
       "1042      Togo   57720\n",
       "1043     Benin   44600\n",
       "1044   Senegal  204000\n",
       "1045     Ghana  253530\n",
       "1046   Nigeria   74800\n",
       "\n",
       "[1047 rows x 2 columns]"
      ]
     },
     "execution_count": 12,
     "metadata": {},
     "output_type": "execute_result"
    }
   ],
   "source": [
    "data[['COUNTRIES','PROFIT']]"
   ]
  },
  {
   "cell_type": "code",
   "execution_count": 13,
   "metadata": {},
   "outputs": [],
   "source": [
    "#create a function for anglophone and francophone countries"
   ]
  },
  {
   "cell_type": "code",
   "execution_count": 14,
   "metadata": {},
   "outputs": [],
   "source": [
    "def check_anglophone(country):\n",
    "    if (country == 'Nigeria') or (country =='Ghana'):\n",
    "        return True\n",
    "    else:\n",
    "        return False\n",
    "    \n",
    "    \n",
    "def check_francophone(country):\n",
    "    if (country =='Senegal') or (country =='Togo') or (country =='Benin'):\n",
    "        return True\n",
    "    else:\n",
    "        return False"
   ]
  },
  {
   "cell_type": "code",
   "execution_count": 15,
   "metadata": {},
   "outputs": [
    {
     "data": {
      "text/html": [
       "<div>\n",
       "<style scoped>\n",
       "    .dataframe tbody tr th:only-of-type {\n",
       "        vertical-align: middle;\n",
       "    }\n",
       "\n",
       "    .dataframe tbody tr th {\n",
       "        vertical-align: top;\n",
       "    }\n",
       "\n",
       "    .dataframe thead th {\n",
       "        text-align: right;\n",
       "    }\n",
       "</style>\n",
       "<table border=\"1\" class=\"dataframe\">\n",
       "  <thead>\n",
       "    <tr style=\"text-align: right;\">\n",
       "      <th></th>\n",
       "      <th>SALES_ID</th>\n",
       "      <th>SALES_REP</th>\n",
       "      <th>EMAILS</th>\n",
       "      <th>BRANDS</th>\n",
       "      <th>PLANT_COST</th>\n",
       "      <th>UNIT_PRICE</th>\n",
       "      <th>QUANTITY</th>\n",
       "      <th>COST</th>\n",
       "      <th>PROFIT</th>\n",
       "      <th>COUNTRIES</th>\n",
       "      <th>REGION</th>\n",
       "      <th>MONTHS</th>\n",
       "      <th>YEARS</th>\n",
       "    </tr>\n",
       "  </thead>\n",
       "  <tbody>\n",
       "    <tr>\n",
       "      <th>2</th>\n",
       "      <td>10103</td>\n",
       "      <td>Sorvino</td>\n",
       "      <td>sorvi2000@gmail.com</td>\n",
       "      <td>castle lite</td>\n",
       "      <td>180</td>\n",
       "      <td>450</td>\n",
       "      <td>937</td>\n",
       "      <td>421650</td>\n",
       "      <td>252990</td>\n",
       "      <td>Togo</td>\n",
       "      <td>southsouth</td>\n",
       "      <td>March</td>\n",
       "      <td>2018</td>\n",
       "    </tr>\n",
       "    <tr>\n",
       "      <th>3</th>\n",
       "      <td>10104</td>\n",
       "      <td>Jones</td>\n",
       "      <td>jone.ai@yahoo.com</td>\n",
       "      <td>eagle lager</td>\n",
       "      <td>170</td>\n",
       "      <td>250</td>\n",
       "      <td>765</td>\n",
       "      <td>191250</td>\n",
       "      <td>61200</td>\n",
       "      <td>Benin</td>\n",
       "      <td>northwest</td>\n",
       "      <td>April</td>\n",
       "      <td>2018</td>\n",
       "    </tr>\n",
       "    <tr>\n",
       "      <th>4</th>\n",
       "      <td>10105</td>\n",
       "      <td>Andrews</td>\n",
       "      <td>andy@gmail.com</td>\n",
       "      <td>hero</td>\n",
       "      <td>150</td>\n",
       "      <td>200</td>\n",
       "      <td>836</td>\n",
       "      <td>167200</td>\n",
       "      <td>41800</td>\n",
       "      <td>Senegal</td>\n",
       "      <td>northeast</td>\n",
       "      <td>May</td>\n",
       "      <td>2017</td>\n",
       "    </tr>\n",
       "    <tr>\n",
       "      <th>7</th>\n",
       "      <td>10108</td>\n",
       "      <td>Jones</td>\n",
       "      <td>jone.ai@yahoo.com</td>\n",
       "      <td>trophy</td>\n",
       "      <td>150</td>\n",
       "      <td>200</td>\n",
       "      <td>812</td>\n",
       "      <td>162400</td>\n",
       "      <td>40600</td>\n",
       "      <td>Togo</td>\n",
       "      <td>west</td>\n",
       "      <td>August</td>\n",
       "      <td>2018</td>\n",
       "    </tr>\n",
       "    <tr>\n",
       "      <th>8</th>\n",
       "      <td>10109</td>\n",
       "      <td>Morgan</td>\n",
       "      <td>morganny@gmail.com</td>\n",
       "      <td>budweiser</td>\n",
       "      <td>250</td>\n",
       "      <td>500</td>\n",
       "      <td>700</td>\n",
       "      <td>350000</td>\n",
       "      <td>175000</td>\n",
       "      <td>Benin</td>\n",
       "      <td>southsouth</td>\n",
       "      <td>September</td>\n",
       "      <td>2019</td>\n",
       "    </tr>\n",
       "    <tr>\n",
       "      <th>...</th>\n",
       "      <td>...</td>\n",
       "      <td>...</td>\n",
       "      <td>...</td>\n",
       "      <td>...</td>\n",
       "      <td>...</td>\n",
       "      <td>...</td>\n",
       "      <td>...</td>\n",
       "      <td>...</td>\n",
       "      <td>...</td>\n",
       "      <td>...</td>\n",
       "      <td>...</td>\n",
       "      <td>...</td>\n",
       "      <td>...</td>\n",
       "    </tr>\n",
       "    <tr>\n",
       "      <th>1038</th>\n",
       "      <td>11139</td>\n",
       "      <td>Gill</td>\n",
       "      <td>gillhell@uk.com</td>\n",
       "      <td>castle lite</td>\n",
       "      <td>180</td>\n",
       "      <td>450</td>\n",
       "      <td>907</td>\n",
       "      <td>408150</td>\n",
       "      <td>244890</td>\n",
       "      <td>Benin</td>\n",
       "      <td>Southeast</td>\n",
       "      <td>July</td>\n",
       "      <td>2017</td>\n",
       "    </tr>\n",
       "    <tr>\n",
       "      <th>1039</th>\n",
       "      <td>11140</td>\n",
       "      <td>Sorvino</td>\n",
       "      <td>sorvi2000@gmail.com</td>\n",
       "      <td>eagle lager</td>\n",
       "      <td>170</td>\n",
       "      <td>250</td>\n",
       "      <td>949</td>\n",
       "      <td>237250</td>\n",
       "      <td>75920</td>\n",
       "      <td>Senegal</td>\n",
       "      <td>west</td>\n",
       "      <td>August</td>\n",
       "      <td>2017</td>\n",
       "    </tr>\n",
       "    <tr>\n",
       "      <th>1042</th>\n",
       "      <td>11143</td>\n",
       "      <td>Jardine</td>\n",
       "      <td>jard@gmail.com</td>\n",
       "      <td>grand malt</td>\n",
       "      <td>90</td>\n",
       "      <td>150</td>\n",
       "      <td>962</td>\n",
       "      <td>144300</td>\n",
       "      <td>57720</td>\n",
       "      <td>Togo</td>\n",
       "      <td>northeast</td>\n",
       "      <td>November</td>\n",
       "      <td>2017</td>\n",
       "    </tr>\n",
       "    <tr>\n",
       "      <th>1043</th>\n",
       "      <td>11144</td>\n",
       "      <td>Jardine</td>\n",
       "      <td>jard@gmail.com</td>\n",
       "      <td>trophy</td>\n",
       "      <td>150</td>\n",
       "      <td>200</td>\n",
       "      <td>892</td>\n",
       "      <td>178400</td>\n",
       "      <td>44600</td>\n",
       "      <td>Benin</td>\n",
       "      <td>northcentral</td>\n",
       "      <td>December</td>\n",
       "      <td>2017</td>\n",
       "    </tr>\n",
       "    <tr>\n",
       "      <th>1044</th>\n",
       "      <td>11145</td>\n",
       "      <td>Andrews</td>\n",
       "      <td>andy@gmail.com</td>\n",
       "      <td>budweiser</td>\n",
       "      <td>250</td>\n",
       "      <td>500</td>\n",
       "      <td>816</td>\n",
       "      <td>408000</td>\n",
       "      <td>204000</td>\n",
       "      <td>Senegal</td>\n",
       "      <td>Southeast</td>\n",
       "      <td>January</td>\n",
       "      <td>2019</td>\n",
       "    </tr>\n",
       "  </tbody>\n",
       "</table>\n",
       "<p>627 rows × 13 columns</p>\n",
       "</div>"
      ],
      "text/plain": [
       "      SALES_ID SALES_REP               EMAILS       BRANDS  PLANT_COST  \\\n",
       "2        10103   Sorvino  sorvi2000@gmail.com  castle lite         180   \n",
       "3        10104     Jones    jone.ai@yahoo.com  eagle lager         170   \n",
       "4        10105   Andrews       andy@gmail.com         hero         150   \n",
       "7        10108     Jones    jone.ai@yahoo.com       trophy         150   \n",
       "8        10109    Morgan   morganny@gmail.com    budweiser         250   \n",
       "...        ...       ...                  ...          ...         ...   \n",
       "1038     11139      Gill      gillhell@uk.com  castle lite         180   \n",
       "1039     11140   Sorvino  sorvi2000@gmail.com  eagle lager         170   \n",
       "1042     11143   Jardine       jard@gmail.com   grand malt          90   \n",
       "1043     11144   Jardine       jard@gmail.com       trophy         150   \n",
       "1044     11145   Andrews       andy@gmail.com    budweiser         250   \n",
       "\n",
       "      UNIT_PRICE  QUANTITY    COST  PROFIT COUNTRIES        REGION   \\\n",
       "2            450       937  421650  252990      Togo     southsouth   \n",
       "3            250       765  191250   61200     Benin      northwest   \n",
       "4            200       836  167200   41800   Senegal     northeast    \n",
       "7            200       812  162400   40600      Togo           west   \n",
       "8            500       700  350000  175000     Benin     southsouth   \n",
       "...          ...       ...     ...     ...       ...            ...   \n",
       "1038         450       907  408150  244890     Benin      Southeast   \n",
       "1039         250       949  237250   75920   Senegal           west   \n",
       "1042         150       962  144300   57720      Togo     northeast    \n",
       "1043         200       892  178400   44600     Benin  northcentral    \n",
       "1044         500       816  408000  204000   Senegal      Southeast   \n",
       "\n",
       "         MONTHS  YEARS  \n",
       "2         March   2018  \n",
       "3         April   2018  \n",
       "4           May   2017  \n",
       "7        August   2018  \n",
       "8     September   2019  \n",
       "...         ...    ...  \n",
       "1038       July   2017  \n",
       "1039     August   2017  \n",
       "1042   November   2017  \n",
       "1043   December   2017  \n",
       "1044    January   2019  \n",
       "\n",
       "[627 rows x 13 columns]"
      ]
     },
     "execution_count": 15,
     "metadata": {},
     "output_type": "execute_result"
    }
   ],
   "source": [
    "data[data['COUNTRIES'].apply(check_francophone)]"
   ]
  },
  {
   "cell_type": "code",
   "execution_count": 16,
   "metadata": {},
   "outputs": [
    {
     "data": {
      "text/plain": [
       "COUNTRIES\n",
       "Benin      20961970\n",
       "Senegal    21485190\n",
       "Togo       20751000\n",
       "Name: PROFIT, dtype: int64"
      ]
     },
     "execution_count": 16,
     "metadata": {},
     "output_type": "execute_result"
    }
   ],
   "source": [
    "df = data[data['COUNTRIES'].apply(check_francophone)]\n",
    "df.groupby(['COUNTRIES'])['PROFIT'].sum()"
   ]
  },
  {
   "cell_type": "code",
   "execution_count": 17,
   "metadata": {},
   "outputs": [
    {
     "data": {
      "text/plain": [
       "63198160"
      ]
     },
     "execution_count": 17,
     "metadata": {},
     "output_type": "execute_result"
    }
   ],
   "source": [
    "francophone = df.groupby(['COUNTRIES'])['PROFIT'].sum().loc[['Benin','Senegal', 'Togo']].sum()\n",
    "francophone"
   ]
  },
  {
   "cell_type": "code",
   "execution_count": 18,
   "metadata": {},
   "outputs": [],
   "source": [
    "#profits made in anglophone countries"
   ]
  },
  {
   "cell_type": "code",
   "execution_count": 19,
   "metadata": {},
   "outputs": [
    {
     "data": {
      "text/html": [
       "<div>\n",
       "<style scoped>\n",
       "    .dataframe tbody tr th:only-of-type {\n",
       "        vertical-align: middle;\n",
       "    }\n",
       "\n",
       "    .dataframe tbody tr th {\n",
       "        vertical-align: top;\n",
       "    }\n",
       "\n",
       "    .dataframe thead th {\n",
       "        text-align: right;\n",
       "    }\n",
       "</style>\n",
       "<table border=\"1\" class=\"dataframe\">\n",
       "  <thead>\n",
       "    <tr style=\"text-align: right;\">\n",
       "      <th></th>\n",
       "      <th>SALES_ID</th>\n",
       "      <th>SALES_REP</th>\n",
       "      <th>EMAILS</th>\n",
       "      <th>BRANDS</th>\n",
       "      <th>PLANT_COST</th>\n",
       "      <th>UNIT_PRICE</th>\n",
       "      <th>QUANTITY</th>\n",
       "      <th>COST</th>\n",
       "      <th>PROFIT</th>\n",
       "      <th>COUNTRIES</th>\n",
       "      <th>REGION</th>\n",
       "      <th>MONTHS</th>\n",
       "      <th>YEARS</th>\n",
       "    </tr>\n",
       "  </thead>\n",
       "  <tbody>\n",
       "    <tr>\n",
       "      <th>0</th>\n",
       "      <td>10101</td>\n",
       "      <td>Jardine</td>\n",
       "      <td>jard@gmail.com</td>\n",
       "      <td>trophy</td>\n",
       "      <td>150</td>\n",
       "      <td>200</td>\n",
       "      <td>725</td>\n",
       "      <td>145000</td>\n",
       "      <td>36250</td>\n",
       "      <td>Ghana</td>\n",
       "      <td>Southeast</td>\n",
       "      <td>January</td>\n",
       "      <td>2019</td>\n",
       "    </tr>\n",
       "    <tr>\n",
       "      <th>1</th>\n",
       "      <td>10102</td>\n",
       "      <td>Gill</td>\n",
       "      <td>gillhell@uk.com</td>\n",
       "      <td>budweiser</td>\n",
       "      <td>250</td>\n",
       "      <td>500</td>\n",
       "      <td>815</td>\n",
       "      <td>407500</td>\n",
       "      <td>203750</td>\n",
       "      <td>Nigeria</td>\n",
       "      <td>west</td>\n",
       "      <td>February</td>\n",
       "      <td>2018</td>\n",
       "    </tr>\n",
       "    <tr>\n",
       "      <th>5</th>\n",
       "      <td>10106</td>\n",
       "      <td>Jardine</td>\n",
       "      <td>jard@gmail.com</td>\n",
       "      <td>beta malt</td>\n",
       "      <td>80</td>\n",
       "      <td>150</td>\n",
       "      <td>798</td>\n",
       "      <td>119700</td>\n",
       "      <td>55860</td>\n",
       "      <td>Ghana</td>\n",
       "      <td>northcentral</td>\n",
       "      <td>June</td>\n",
       "      <td>2019</td>\n",
       "    </tr>\n",
       "    <tr>\n",
       "      <th>6</th>\n",
       "      <td>10107</td>\n",
       "      <td>Thompson</td>\n",
       "      <td>thomp@uk.com</td>\n",
       "      <td>grand malt</td>\n",
       "      <td>90</td>\n",
       "      <td>150</td>\n",
       "      <td>954</td>\n",
       "      <td>143100</td>\n",
       "      <td>57240</td>\n",
       "      <td>Nigeria</td>\n",
       "      <td>Southeast</td>\n",
       "      <td>July</td>\n",
       "      <td>2017</td>\n",
       "    </tr>\n",
       "    <tr>\n",
       "      <th>10</th>\n",
       "      <td>10111</td>\n",
       "      <td>Parent</td>\n",
       "      <td>parentty@uk.com</td>\n",
       "      <td>eagle lager</td>\n",
       "      <td>170</td>\n",
       "      <td>250</td>\n",
       "      <td>861</td>\n",
       "      <td>215250</td>\n",
       "      <td>68880</td>\n",
       "      <td>Ghana</td>\n",
       "      <td>northeast</td>\n",
       "      <td>November</td>\n",
       "      <td>2017</td>\n",
       "    </tr>\n",
       "    <tr>\n",
       "      <th>...</th>\n",
       "      <td>...</td>\n",
       "      <td>...</td>\n",
       "      <td>...</td>\n",
       "      <td>...</td>\n",
       "      <td>...</td>\n",
       "      <td>...</td>\n",
       "      <td>...</td>\n",
       "      <td>...</td>\n",
       "      <td>...</td>\n",
       "      <td>...</td>\n",
       "      <td>...</td>\n",
       "      <td>...</td>\n",
       "      <td>...</td>\n",
       "    </tr>\n",
       "    <tr>\n",
       "      <th>1036</th>\n",
       "      <td>11137</td>\n",
       "      <td>Kivell</td>\n",
       "      <td>kivel_go@yahoo.com</td>\n",
       "      <td>trophy</td>\n",
       "      <td>150</td>\n",
       "      <td>200</td>\n",
       "      <td>974</td>\n",
       "      <td>194800</td>\n",
       "      <td>48700</td>\n",
       "      <td>Nigeria</td>\n",
       "      <td>northeast</td>\n",
       "      <td>May</td>\n",
       "      <td>2017</td>\n",
       "    </tr>\n",
       "    <tr>\n",
       "      <th>1040</th>\n",
       "      <td>11141</td>\n",
       "      <td>Thompson</td>\n",
       "      <td>thomp@uk.com</td>\n",
       "      <td>hero</td>\n",
       "      <td>150</td>\n",
       "      <td>200</td>\n",
       "      <td>903</td>\n",
       "      <td>180600</td>\n",
       "      <td>45150</td>\n",
       "      <td>Ghana</td>\n",
       "      <td>southsouth</td>\n",
       "      <td>September</td>\n",
       "      <td>2019</td>\n",
       "    </tr>\n",
       "    <tr>\n",
       "      <th>1041</th>\n",
       "      <td>11142</td>\n",
       "      <td>Andrews</td>\n",
       "      <td>andy@gmail.com</td>\n",
       "      <td>beta malt</td>\n",
       "      <td>80</td>\n",
       "      <td>150</td>\n",
       "      <td>740</td>\n",
       "      <td>111000</td>\n",
       "      <td>51800</td>\n",
       "      <td>Nigeria</td>\n",
       "      <td>northwest</td>\n",
       "      <td>October</td>\n",
       "      <td>2018</td>\n",
       "    </tr>\n",
       "    <tr>\n",
       "      <th>1045</th>\n",
       "      <td>11146</td>\n",
       "      <td>Jones</td>\n",
       "      <td>jone.ai@yahoo.com</td>\n",
       "      <td>castle lite</td>\n",
       "      <td>180</td>\n",
       "      <td>450</td>\n",
       "      <td>939</td>\n",
       "      <td>422550</td>\n",
       "      <td>253530</td>\n",
       "      <td>Ghana</td>\n",
       "      <td>west</td>\n",
       "      <td>February</td>\n",
       "      <td>2017</td>\n",
       "    </tr>\n",
       "    <tr>\n",
       "      <th>1046</th>\n",
       "      <td>11147</td>\n",
       "      <td>Morgan</td>\n",
       "      <td>morganny@gmail.com</td>\n",
       "      <td>eagle lager</td>\n",
       "      <td>170</td>\n",
       "      <td>250</td>\n",
       "      <td>935</td>\n",
       "      <td>233750</td>\n",
       "      <td>74800</td>\n",
       "      <td>Nigeria</td>\n",
       "      <td>southsouth</td>\n",
       "      <td>March</td>\n",
       "      <td>2019</td>\n",
       "    </tr>\n",
       "  </tbody>\n",
       "</table>\n",
       "<p>420 rows × 13 columns</p>\n",
       "</div>"
      ],
      "text/plain": [
       "      SALES_ID SALES_REP              EMAILS       BRANDS  PLANT_COST  \\\n",
       "0        10101   Jardine      jard@gmail.com       trophy         150   \n",
       "1        10102      Gill     gillhell@uk.com    budweiser         250   \n",
       "5        10106   Jardine      jard@gmail.com    beta malt          80   \n",
       "6        10107  Thompson        thomp@uk.com   grand malt          90   \n",
       "10       10111    Parent     parentty@uk.com  eagle lager         170   \n",
       "...        ...       ...                 ...          ...         ...   \n",
       "1036     11137    Kivell  kivel_go@yahoo.com       trophy         150   \n",
       "1040     11141  Thompson        thomp@uk.com         hero         150   \n",
       "1041     11142   Andrews      andy@gmail.com    beta malt          80   \n",
       "1045     11146     Jones   jone.ai@yahoo.com  castle lite         180   \n",
       "1046     11147    Morgan  morganny@gmail.com  eagle lager         170   \n",
       "\n",
       "      UNIT_PRICE  QUANTITY    COST  PROFIT COUNTRIES        REGION   \\\n",
       "0            200       725  145000   36250     Ghana      Southeast   \n",
       "1            500       815  407500  203750   Nigeria           west   \n",
       "5            150       798  119700   55860     Ghana  northcentral    \n",
       "6            150       954  143100   57240   Nigeria      Southeast   \n",
       "10           250       861  215250   68880     Ghana     northeast    \n",
       "...          ...       ...     ...     ...       ...            ...   \n",
       "1036         200       974  194800   48700   Nigeria     northeast    \n",
       "1040         200       903  180600   45150     Ghana     southsouth   \n",
       "1041         150       740  111000   51800   Nigeria      northwest   \n",
       "1045         450       939  422550  253530     Ghana           west   \n",
       "1046         250       935  233750   74800   Nigeria     southsouth   \n",
       "\n",
       "         MONTHS  YEARS  \n",
       "0       January   2019  \n",
       "1      February   2018  \n",
       "5          June   2019  \n",
       "6          July   2017  \n",
       "10     November   2017  \n",
       "...         ...    ...  \n",
       "1036        May   2017  \n",
       "1040  September   2019  \n",
       "1041    October   2018  \n",
       "1045   February   2017  \n",
       "1046      March   2019  \n",
       "\n",
       "[420 rows x 13 columns]"
      ]
     },
     "execution_count": 19,
     "metadata": {},
     "output_type": "execute_result"
    }
   ],
   "source": [
    "data[data['COUNTRIES'].apply(check_anglophone)]"
   ]
  },
  {
   "cell_type": "code",
   "execution_count": 20,
   "metadata": {},
   "outputs": [
    {
     "data": {
      "text/plain": [
       "COUNTRIES\n",
       "Ghana      21013050\n",
       "Nigeria    21376210\n",
       "Name: PROFIT, dtype: int64"
      ]
     },
     "execution_count": 20,
     "metadata": {},
     "output_type": "execute_result"
    }
   ],
   "source": [
    "df1 = data[data['COUNTRIES'].apply(check_anglophone)]\n",
    "df1.groupby(['COUNTRIES'])['PROFIT'].sum()"
   ]
  },
  {
   "cell_type": "code",
   "execution_count": 21,
   "metadata": {},
   "outputs": [
    {
     "name": "stdout",
     "output_type": "stream",
     "text": [
      "Total profit made in the Anglophone region:  42389260\n",
      "Total profit made in the Francophone region:  63198160\n"
     ]
    }
   ],
   "source": [
    "anglophone = df1.groupby(['COUNTRIES'])['PROFIT'].sum().loc[['Ghana','Nigeria',]].sum()\n",
    "\n",
    "print('Total profit made in the Anglophone region: ', anglophone)\n",
    "print('Total profit made in the Francophone region: ', francophone)"
   ]
  },
  {
   "cell_type": "code",
   "execution_count": 22,
   "metadata": {},
   "outputs": [],
   "source": [
    "#/*Country that generated the highest profit in 2019*/"
   ]
  },
  {
   "cell_type": "code",
   "execution_count": 23,
   "metadata": {},
   "outputs": [
    {
     "data": {
      "text/html": [
       "<div>\n",
       "<style scoped>\n",
       "    .dataframe tbody tr th:only-of-type {\n",
       "        vertical-align: middle;\n",
       "    }\n",
       "\n",
       "    .dataframe tbody tr th {\n",
       "        vertical-align: top;\n",
       "    }\n",
       "\n",
       "    .dataframe thead th {\n",
       "        text-align: right;\n",
       "    }\n",
       "</style>\n",
       "<table border=\"1\" class=\"dataframe\">\n",
       "  <thead>\n",
       "    <tr style=\"text-align: right;\">\n",
       "      <th></th>\n",
       "      <th>SALES_ID</th>\n",
       "      <th>SALES_REP</th>\n",
       "      <th>EMAILS</th>\n",
       "      <th>BRANDS</th>\n",
       "      <th>PLANT_COST</th>\n",
       "      <th>UNIT_PRICE</th>\n",
       "      <th>QUANTITY</th>\n",
       "      <th>COST</th>\n",
       "      <th>PROFIT</th>\n",
       "      <th>COUNTRIES</th>\n",
       "      <th>REGION</th>\n",
       "      <th>MONTHS</th>\n",
       "      <th>YEARS</th>\n",
       "    </tr>\n",
       "  </thead>\n",
       "  <tbody>\n",
       "    <tr>\n",
       "      <th>0</th>\n",
       "      <td>10101</td>\n",
       "      <td>Jardine</td>\n",
       "      <td>jard@gmail.com</td>\n",
       "      <td>trophy</td>\n",
       "      <td>150</td>\n",
       "      <td>200</td>\n",
       "      <td>725</td>\n",
       "      <td>145000</td>\n",
       "      <td>36250</td>\n",
       "      <td>Ghana</td>\n",
       "      <td>Southeast</td>\n",
       "      <td>January</td>\n",
       "      <td>2019</td>\n",
       "    </tr>\n",
       "    <tr>\n",
       "      <th>5</th>\n",
       "      <td>10106</td>\n",
       "      <td>Jardine</td>\n",
       "      <td>jard@gmail.com</td>\n",
       "      <td>beta malt</td>\n",
       "      <td>80</td>\n",
       "      <td>150</td>\n",
       "      <td>798</td>\n",
       "      <td>119700</td>\n",
       "      <td>55860</td>\n",
       "      <td>Ghana</td>\n",
       "      <td>northcentral</td>\n",
       "      <td>June</td>\n",
       "      <td>2019</td>\n",
       "    </tr>\n",
       "    <tr>\n",
       "      <th>8</th>\n",
       "      <td>10109</td>\n",
       "      <td>Morgan</td>\n",
       "      <td>morganny@gmail.com</td>\n",
       "      <td>budweiser</td>\n",
       "      <td>250</td>\n",
       "      <td>500</td>\n",
       "      <td>700</td>\n",
       "      <td>350000</td>\n",
       "      <td>175000</td>\n",
       "      <td>Benin</td>\n",
       "      <td>southsouth</td>\n",
       "      <td>September</td>\n",
       "      <td>2019</td>\n",
       "    </tr>\n",
       "  </tbody>\n",
       "</table>\n",
       "</div>"
      ],
      "text/plain": [
       "   SALES_ID SALES_REP              EMAILS     BRANDS  PLANT_COST  UNIT_PRICE  \\\n",
       "0     10101   Jardine      jard@gmail.com     trophy         150         200   \n",
       "5     10106   Jardine      jard@gmail.com  beta malt          80         150   \n",
       "8     10109    Morgan  morganny@gmail.com  budweiser         250         500   \n",
       "\n",
       "   QUANTITY    COST  PROFIT COUNTRIES        REGION      MONTHS  YEARS  \n",
       "0       725  145000   36250     Ghana      Southeast    January   2019  \n",
       "5       798  119700   55860     Ghana  northcentral        June   2019  \n",
       "8       700  350000  175000     Benin     southsouth  September   2019  "
      ]
     },
     "execution_count": 23,
     "metadata": {},
     "output_type": "execute_result"
    }
   ],
   "source": [
    "yr_2019 = data[data['YEARS'] == 2019]\n",
    "yr_2019.head(3)"
   ]
  },
  {
   "cell_type": "code",
   "execution_count": 24,
   "metadata": {},
   "outputs": [
    {
     "data": {
      "text/plain": [
       "COUNTRIES\n",
       "Ghana    7144070\n",
       "Name: PROFIT, dtype: int64"
      ]
     },
     "execution_count": 24,
     "metadata": {},
     "output_type": "execute_result"
    }
   ],
   "source": [
    "yr_2019.groupby(['COUNTRIES'])['PROFIT'].sum().sort_values(ascending=False).head(1)\n"
   ]
  },
  {
   "cell_type": "markdown",
   "metadata": {},
   "source": [
    "The Country with the most profit in the year 2019 is Ghana"
   ]
  },
  {
   "cell_type": "code",
   "execution_count": 25,
   "metadata": {},
   "outputs": [],
   "source": [
    "#/*Help him find the year with the highest profit.*/"
   ]
  },
  {
   "cell_type": "code",
   "execution_count": 26,
   "metadata": {},
   "outputs": [
    {
     "data": {
      "text/plain": [
       "YEARS\n",
       "2017    38503320\n",
       "Name: PROFIT, dtype: int64"
      ]
     },
     "execution_count": 26,
     "metadata": {},
     "output_type": "execute_result"
    }
   ],
   "source": [
    "data.groupby(['YEARS'])['PROFIT'].sum().sort_values(ascending = False).head(1)"
   ]
  },
  {
   "cell_type": "markdown",
   "metadata": {},
   "source": [
    "The most profitable year is 2017"
   ]
  },
  {
   "cell_type": "code",
   "execution_count": 27,
   "metadata": {},
   "outputs": [],
   "source": [
    "# /*Which month in the three years were the least profit generated?*/"
   ]
  },
  {
   "cell_type": "code",
   "execution_count": 28,
   "metadata": {},
   "outputs": [
    {
     "data": {
      "text/plain": [
       "MONTHS\n",
       "April    8573830\n",
       "Name: PROFIT, dtype: int64"
      ]
     },
     "execution_count": 28,
     "metadata": {},
     "output_type": "execute_result"
    }
   ],
   "source": [
    "data.groupby(['MONTHS'])['PROFIT'].sum().sort_values(ascending = True).head(1)"
   ]
  },
  {
   "cell_type": "markdown",
   "metadata": {},
   "source": [
    "The least profitable month recorded in the 3years was April"
   ]
  },
  {
   "cell_type": "code",
   "execution_count": 29,
   "metadata": {},
   "outputs": [],
   "source": [
    "# /*Compare the profit in percentage for each of the month in 2019*/"
   ]
  },
  {
   "cell_type": "code",
   "execution_count": 30,
   "metadata": {},
   "outputs": [
    {
     "data": {
      "text/html": [
       "<div>\n",
       "<style scoped>\n",
       "    .dataframe tbody tr th:only-of-type {\n",
       "        vertical-align: middle;\n",
       "    }\n",
       "\n",
       "    .dataframe tbody tr th {\n",
       "        vertical-align: top;\n",
       "    }\n",
       "\n",
       "    .dataframe thead th {\n",
       "        text-align: right;\n",
       "    }\n",
       "</style>\n",
       "<table border=\"1\" class=\"dataframe\">\n",
       "  <thead>\n",
       "    <tr style=\"text-align: right;\">\n",
       "      <th></th>\n",
       "      <th>SALES_ID</th>\n",
       "      <th>SALES_REP</th>\n",
       "      <th>EMAILS</th>\n",
       "      <th>BRANDS</th>\n",
       "      <th>PLANT_COST</th>\n",
       "      <th>UNIT_PRICE</th>\n",
       "      <th>QUANTITY</th>\n",
       "      <th>COST</th>\n",
       "      <th>PROFIT</th>\n",
       "      <th>COUNTRIES</th>\n",
       "      <th>REGION</th>\n",
       "      <th>MONTHS</th>\n",
       "      <th>YEARS</th>\n",
       "    </tr>\n",
       "  </thead>\n",
       "  <tbody>\n",
       "    <tr>\n",
       "      <th>0</th>\n",
       "      <td>10101</td>\n",
       "      <td>Jardine</td>\n",
       "      <td>jard@gmail.com</td>\n",
       "      <td>trophy</td>\n",
       "      <td>150</td>\n",
       "      <td>200</td>\n",
       "      <td>725</td>\n",
       "      <td>145000</td>\n",
       "      <td>36250</td>\n",
       "      <td>Ghana</td>\n",
       "      <td>Southeast</td>\n",
       "      <td>January</td>\n",
       "      <td>2019</td>\n",
       "    </tr>\n",
       "    <tr>\n",
       "      <th>5</th>\n",
       "      <td>10106</td>\n",
       "      <td>Jardine</td>\n",
       "      <td>jard@gmail.com</td>\n",
       "      <td>beta malt</td>\n",
       "      <td>80</td>\n",
       "      <td>150</td>\n",
       "      <td>798</td>\n",
       "      <td>119700</td>\n",
       "      <td>55860</td>\n",
       "      <td>Ghana</td>\n",
       "      <td>northcentral</td>\n",
       "      <td>June</td>\n",
       "      <td>2019</td>\n",
       "    </tr>\n",
       "    <tr>\n",
       "      <th>8</th>\n",
       "      <td>10109</td>\n",
       "      <td>Morgan</td>\n",
       "      <td>morganny@gmail.com</td>\n",
       "      <td>budweiser</td>\n",
       "      <td>250</td>\n",
       "      <td>500</td>\n",
       "      <td>700</td>\n",
       "      <td>350000</td>\n",
       "      <td>175000</td>\n",
       "      <td>Benin</td>\n",
       "      <td>southsouth</td>\n",
       "      <td>September</td>\n",
       "      <td>2019</td>\n",
       "    </tr>\n",
       "    <tr>\n",
       "      <th>11</th>\n",
       "      <td>10112</td>\n",
       "      <td>Jones</td>\n",
       "      <td>jone.ai@yahoo.com</td>\n",
       "      <td>hero</td>\n",
       "      <td>150</td>\n",
       "      <td>200</td>\n",
       "      <td>902</td>\n",
       "      <td>180400</td>\n",
       "      <td>45100</td>\n",
       "      <td>Nigeria</td>\n",
       "      <td>northcentral</td>\n",
       "      <td>December</td>\n",
       "      <td>2019</td>\n",
       "    </tr>\n",
       "    <tr>\n",
       "      <th>15</th>\n",
       "      <td>10116</td>\n",
       "      <td>Jones</td>\n",
       "      <td>jone.ai@yahoo.com</td>\n",
       "      <td>budweiser</td>\n",
       "      <td>250</td>\n",
       "      <td>500</td>\n",
       "      <td>709</td>\n",
       "      <td>354500</td>\n",
       "      <td>177250</td>\n",
       "      <td>Ghana</td>\n",
       "      <td>northwest</td>\n",
       "      <td>April</td>\n",
       "      <td>2019</td>\n",
       "    </tr>\n",
       "  </tbody>\n",
       "</table>\n",
       "</div>"
      ],
      "text/plain": [
       "    SALES_ID SALES_REP              EMAILS     BRANDS  PLANT_COST  UNIT_PRICE  \\\n",
       "0      10101   Jardine      jard@gmail.com     trophy         150         200   \n",
       "5      10106   Jardine      jard@gmail.com  beta malt          80         150   \n",
       "8      10109    Morgan  morganny@gmail.com  budweiser         250         500   \n",
       "11     10112     Jones   jone.ai@yahoo.com       hero         150         200   \n",
       "15     10116     Jones   jone.ai@yahoo.com  budweiser         250         500   \n",
       "\n",
       "    QUANTITY    COST  PROFIT COUNTRIES        REGION      MONTHS  YEARS  \n",
       "0        725  145000   36250     Ghana      Southeast    January   2019  \n",
       "5        798  119700   55860     Ghana  northcentral        June   2019  \n",
       "8        700  350000  175000     Benin     southsouth  September   2019  \n",
       "11       902  180400   45100   Nigeria  northcentral    December   2019  \n",
       "15       709  354500  177250     Ghana      northwest      April   2019  "
      ]
     },
     "execution_count": 30,
     "metadata": {},
     "output_type": "execute_result"
    }
   ],
   "source": [
    "yr_2019.head(5)"
   ]
  },
  {
   "cell_type": "code",
   "execution_count": 31,
   "metadata": {},
   "outputs": [],
   "source": [
    "#total profit made in the month of january"
   ]
  },
  {
   "cell_type": "code",
   "execution_count": 32,
   "metadata": {},
   "outputs": [
    {
     "data": {
      "text/plain": [
       "3263160"
      ]
     },
     "execution_count": 32,
     "metadata": {},
     "output_type": "execute_result"
    }
   ],
   "source": [
    "jan_profit = yr_2019[yr_2019['MONTHS'] == 'January'].groupby(['MONTHS'])['PROFIT'].sum()\n",
    "jan_profit.loc['January']"
   ]
  },
  {
   "cell_type": "code",
   "execution_count": 33,
   "metadata": {},
   "outputs": [],
   "source": [
    "#therefore the precentage profit for the months in 2019"
   ]
  },
  {
   "cell_type": "code",
   "execution_count": 34,
   "metadata": {},
   "outputs": [
    {
     "data": {
      "text/plain": [
       "MONTHS\n",
       "April        0.873837\n",
       "August       0.914083\n",
       "December     0.627852\n",
       "February     0.418882\n",
       "January      1.000000\n",
       "July         0.902604\n",
       "June         0.817943\n",
       "March        0.775512\n",
       "May          0.788512\n",
       "November     0.819944\n",
       "October      0.680589\n",
       "September    0.579990\n",
       "Name: PROFIT, dtype: float64"
      ]
     },
     "execution_count": 34,
     "metadata": {},
     "output_type": "execute_result"
    }
   ],
   "source": [
    "month = yr_2019.groupby(['MONTHS'])['PROFIT'].sum()\n",
    "month/jan_profit.loc['January'] "
   ]
  },
  {
   "cell_type": "code",
   "execution_count": 35,
   "metadata": {},
   "outputs": [],
   "source": [
    "#/*Which particular brand generated the highest profit in Senegal?*/"
   ]
  },
  {
   "cell_type": "code",
   "execution_count": 36,
   "metadata": {},
   "outputs": [
    {
     "data": {
      "text/html": [
       "<div>\n",
       "<style scoped>\n",
       "    .dataframe tbody tr th:only-of-type {\n",
       "        vertical-align: middle;\n",
       "    }\n",
       "\n",
       "    .dataframe tbody tr th {\n",
       "        vertical-align: top;\n",
       "    }\n",
       "\n",
       "    .dataframe thead th {\n",
       "        text-align: right;\n",
       "    }\n",
       "</style>\n",
       "<table border=\"1\" class=\"dataframe\">\n",
       "  <thead>\n",
       "    <tr style=\"text-align: right;\">\n",
       "      <th></th>\n",
       "      <th>SALES_ID</th>\n",
       "      <th>SALES_REP</th>\n",
       "      <th>EMAILS</th>\n",
       "      <th>BRANDS</th>\n",
       "      <th>PLANT_COST</th>\n",
       "      <th>UNIT_PRICE</th>\n",
       "      <th>QUANTITY</th>\n",
       "      <th>COST</th>\n",
       "      <th>PROFIT</th>\n",
       "      <th>COUNTRIES</th>\n",
       "      <th>REGION</th>\n",
       "      <th>MONTHS</th>\n",
       "      <th>YEARS</th>\n",
       "    </tr>\n",
       "  </thead>\n",
       "  <tbody>\n",
       "    <tr>\n",
       "      <th>4</th>\n",
       "      <td>10105</td>\n",
       "      <td>Andrews</td>\n",
       "      <td>andy@gmail.com</td>\n",
       "      <td>hero</td>\n",
       "      <td>150</td>\n",
       "      <td>200</td>\n",
       "      <td>836</td>\n",
       "      <td>167200</td>\n",
       "      <td>41800</td>\n",
       "      <td>Senegal</td>\n",
       "      <td>northeast</td>\n",
       "      <td>May</td>\n",
       "      <td>2017</td>\n",
       "    </tr>\n",
       "    <tr>\n",
       "      <th>9</th>\n",
       "      <td>10110</td>\n",
       "      <td>Howard</td>\n",
       "      <td>howard_freeman@yahoo.com</td>\n",
       "      <td>castle lite</td>\n",
       "      <td>180</td>\n",
       "      <td>450</td>\n",
       "      <td>745</td>\n",
       "      <td>335250</td>\n",
       "      <td>201150</td>\n",
       "      <td>Senegal</td>\n",
       "      <td>northwest</td>\n",
       "      <td>October</td>\n",
       "      <td>2017</td>\n",
       "    </tr>\n",
       "    <tr>\n",
       "      <th>14</th>\n",
       "      <td>10115</td>\n",
       "      <td>Morgan</td>\n",
       "      <td>morganny@gmail.com</td>\n",
       "      <td>trophy</td>\n",
       "      <td>150</td>\n",
       "      <td>200</td>\n",
       "      <td>939</td>\n",
       "      <td>187800</td>\n",
       "      <td>46950</td>\n",
       "      <td>Senegal</td>\n",
       "      <td>southsouth</td>\n",
       "      <td>March</td>\n",
       "      <td>2018</td>\n",
       "    </tr>\n",
       "    <tr>\n",
       "      <th>19</th>\n",
       "      <td>10120</td>\n",
       "      <td>Parent</td>\n",
       "      <td>parentty@uk.com</td>\n",
       "      <td>beta malt</td>\n",
       "      <td>80</td>\n",
       "      <td>150</td>\n",
       "      <td>731</td>\n",
       "      <td>109650</td>\n",
       "      <td>51170</td>\n",
       "      <td>Senegal</td>\n",
       "      <td>west</td>\n",
       "      <td>August</td>\n",
       "      <td>2017</td>\n",
       "    </tr>\n",
       "    <tr>\n",
       "      <th>24</th>\n",
       "      <td>10125</td>\n",
       "      <td>Jardine</td>\n",
       "      <td>jard@gmail.com</td>\n",
       "      <td>eagle lager</td>\n",
       "      <td>170</td>\n",
       "      <td>250</td>\n",
       "      <td>715</td>\n",
       "      <td>178750</td>\n",
       "      <td>57200</td>\n",
       "      <td>Senegal</td>\n",
       "      <td>Southeast</td>\n",
       "      <td>January</td>\n",
       "      <td>2018</td>\n",
       "    </tr>\n",
       "  </tbody>\n",
       "</table>\n",
       "</div>"
      ],
      "text/plain": [
       "    SALES_ID SALES_REP                    EMAILS       BRANDS  PLANT_COST  \\\n",
       "4      10105   Andrews            andy@gmail.com         hero         150   \n",
       "9      10110    Howard  howard_freeman@yahoo.com  castle lite         180   \n",
       "14     10115    Morgan        morganny@gmail.com       trophy         150   \n",
       "19     10120    Parent           parentty@uk.com    beta malt          80   \n",
       "24     10125   Jardine            jard@gmail.com  eagle lager         170   \n",
       "\n",
       "    UNIT_PRICE  QUANTITY    COST  PROFIT COUNTRIES     REGION    MONTHS  YEARS  \n",
       "4          200       836  167200   41800   Senegal  northeast       May   2017  \n",
       "9          450       745  335250  201150   Senegal   northwest  October   2017  \n",
       "14         200       939  187800   46950   Senegal  southsouth    March   2018  \n",
       "19         150       731  109650   51170   Senegal        west   August   2017  \n",
       "24         250       715  178750   57200   Senegal   Southeast  January   2018  "
      ]
     },
     "execution_count": 36,
     "metadata": {},
     "output_type": "execute_result"
    }
   ],
   "source": [
    "df_senegal = data[data['COUNTRIES'] =='Senegal']\n",
    "df_senegal.head()"
   ]
  },
  {
   "cell_type": "code",
   "execution_count": 37,
   "metadata": {},
   "outputs": [
    {
     "data": {
      "text/plain": [
       "BRANDS\n",
       "castle lite    7012980\n",
       "Name: PROFIT, dtype: int64"
      ]
     },
     "execution_count": 37,
     "metadata": {},
     "output_type": "execute_result"
    }
   ],
   "source": [
    "df_senegal.groupby(['BRANDS'])['PROFIT'].sum().sort_values(ascending = False).head(1)"
   ]
  },
  {
   "cell_type": "markdown",
   "metadata": {},
   "source": [
    "The brand that generated the most profit in senegal is Castle lite beer, with a total profit of 7012980"
   ]
  },
  {
   "cell_type": "code",
   "execution_count": 38,
   "metadata": {},
   "outputs": [],
   "source": [
    "#/*BRAND ANALYSIS*/\n",
    "#1./*Within the last two years, the brand manager wants to know \n",
    "#the top three brands consumed in the francophone countries*/"
   ]
  },
  {
   "cell_type": "code",
   "execution_count": 39,
   "metadata": {},
   "outputs": [],
   "source": [
    "def check_year(YEARS):\n",
    "    if (YEARS==2018) or (YEARS==2019):\n",
    "        return True\n",
    "    else:\n",
    "        return False"
   ]
  },
  {
   "cell_type": "code",
   "execution_count": 40,
   "metadata": {},
   "outputs": [
    {
     "data": {
      "text/html": [
       "<div>\n",
       "<style scoped>\n",
       "    .dataframe tbody tr th:only-of-type {\n",
       "        vertical-align: middle;\n",
       "    }\n",
       "\n",
       "    .dataframe tbody tr th {\n",
       "        vertical-align: top;\n",
       "    }\n",
       "\n",
       "    .dataframe thead th {\n",
       "        text-align: right;\n",
       "    }\n",
       "</style>\n",
       "<table border=\"1\" class=\"dataframe\">\n",
       "  <thead>\n",
       "    <tr style=\"text-align: right;\">\n",
       "      <th></th>\n",
       "      <th>SALES_ID</th>\n",
       "      <th>SALES_REP</th>\n",
       "      <th>EMAILS</th>\n",
       "      <th>BRANDS</th>\n",
       "      <th>PLANT_COST</th>\n",
       "      <th>UNIT_PRICE</th>\n",
       "      <th>QUANTITY</th>\n",
       "      <th>COST</th>\n",
       "      <th>PROFIT</th>\n",
       "      <th>COUNTRIES</th>\n",
       "      <th>REGION</th>\n",
       "      <th>MONTHS</th>\n",
       "      <th>YEARS</th>\n",
       "    </tr>\n",
       "  </thead>\n",
       "  <tbody>\n",
       "    <tr>\n",
       "      <th>0</th>\n",
       "      <td>10101</td>\n",
       "      <td>Jardine</td>\n",
       "      <td>jard@gmail.com</td>\n",
       "      <td>trophy</td>\n",
       "      <td>150</td>\n",
       "      <td>200</td>\n",
       "      <td>725</td>\n",
       "      <td>145000</td>\n",
       "      <td>36250</td>\n",
       "      <td>Ghana</td>\n",
       "      <td>Southeast</td>\n",
       "      <td>January</td>\n",
       "      <td>2019</td>\n",
       "    </tr>\n",
       "    <tr>\n",
       "      <th>1</th>\n",
       "      <td>10102</td>\n",
       "      <td>Gill</td>\n",
       "      <td>gillhell@uk.com</td>\n",
       "      <td>budweiser</td>\n",
       "      <td>250</td>\n",
       "      <td>500</td>\n",
       "      <td>815</td>\n",
       "      <td>407500</td>\n",
       "      <td>203750</td>\n",
       "      <td>Nigeria</td>\n",
       "      <td>west</td>\n",
       "      <td>February</td>\n",
       "      <td>2018</td>\n",
       "    </tr>\n",
       "    <tr>\n",
       "      <th>2</th>\n",
       "      <td>10103</td>\n",
       "      <td>Sorvino</td>\n",
       "      <td>sorvi2000@gmail.com</td>\n",
       "      <td>castle lite</td>\n",
       "      <td>180</td>\n",
       "      <td>450</td>\n",
       "      <td>937</td>\n",
       "      <td>421650</td>\n",
       "      <td>252990</td>\n",
       "      <td>Togo</td>\n",
       "      <td>southsouth</td>\n",
       "      <td>March</td>\n",
       "      <td>2018</td>\n",
       "    </tr>\n",
       "    <tr>\n",
       "      <th>3</th>\n",
       "      <td>10104</td>\n",
       "      <td>Jones</td>\n",
       "      <td>jone.ai@yahoo.com</td>\n",
       "      <td>eagle lager</td>\n",
       "      <td>170</td>\n",
       "      <td>250</td>\n",
       "      <td>765</td>\n",
       "      <td>191250</td>\n",
       "      <td>61200</td>\n",
       "      <td>Benin</td>\n",
       "      <td>northwest</td>\n",
       "      <td>April</td>\n",
       "      <td>2018</td>\n",
       "    </tr>\n",
       "    <tr>\n",
       "      <th>5</th>\n",
       "      <td>10106</td>\n",
       "      <td>Jardine</td>\n",
       "      <td>jard@gmail.com</td>\n",
       "      <td>beta malt</td>\n",
       "      <td>80</td>\n",
       "      <td>150</td>\n",
       "      <td>798</td>\n",
       "      <td>119700</td>\n",
       "      <td>55860</td>\n",
       "      <td>Ghana</td>\n",
       "      <td>northcentral</td>\n",
       "      <td>June</td>\n",
       "      <td>2019</td>\n",
       "    </tr>\n",
       "  </tbody>\n",
       "</table>\n",
       "</div>"
      ],
      "text/plain": [
       "   SALES_ID SALES_REP               EMAILS       BRANDS  PLANT_COST  \\\n",
       "0     10101   Jardine       jard@gmail.com       trophy         150   \n",
       "1     10102      Gill      gillhell@uk.com    budweiser         250   \n",
       "2     10103   Sorvino  sorvi2000@gmail.com  castle lite         180   \n",
       "3     10104     Jones    jone.ai@yahoo.com  eagle lager         170   \n",
       "5     10106   Jardine       jard@gmail.com    beta malt          80   \n",
       "\n",
       "   UNIT_PRICE  QUANTITY    COST  PROFIT COUNTRIES        REGION     MONTHS  \\\n",
       "0         200       725  145000   36250     Ghana      Southeast   January   \n",
       "1         500       815  407500  203750   Nigeria           west  February   \n",
       "2         450       937  421650  252990      Togo     southsouth     March   \n",
       "3         250       765  191250   61200     Benin      northwest     April   \n",
       "5         150       798  119700   55860     Ghana  northcentral       June   \n",
       "\n",
       "   YEARS  \n",
       "0   2019  \n",
       "1   2018  \n",
       "2   2018  \n",
       "3   2018  \n",
       "5   2019  "
      ]
     },
     "execution_count": 40,
     "metadata": {},
     "output_type": "execute_result"
    }
   ],
   "source": [
    "brand = data[data['YEARS'].apply(check_year)]\n",
    "brand.head()"
   ]
  },
  {
   "cell_type": "code",
   "execution_count": 41,
   "metadata": {},
   "outputs": [
    {
     "data": {
      "text/plain": [
       "BRANDS\n",
       "trophy         52899\n",
       "hero           50846\n",
       "eagle lager    50630\n",
       "Name: QUANTITY, dtype: int64"
      ]
     },
     "execution_count": 41,
     "metadata": {},
     "output_type": "execute_result"
    }
   ],
   "source": [
    "brand[brand['COUNTRIES'].apply(check_francophone)].groupby(['BRANDS'])['QUANTITY'].sum().sort_values(ascending =False).head(3)"
   ]
  },
  {
   "cell_type": "markdown",
   "metadata": {},
   "source": [
    "The top 3 brands consumed in the the francophone countries are: (Trophy Hero and Eagle lager)"
   ]
  },
  {
   "cell_type": "code",
   "execution_count": 42,
   "metadata": {},
   "outputs": [],
   "source": [
    "#2./*Find out the top two choice of consumer brands in Ghana*"
   ]
  },
  {
   "cell_type": "code",
   "execution_count": 43,
   "metadata": {},
   "outputs": [
    {
     "data": {
      "text/plain": [
       "BRANDS\n",
       "eagle lager    25829\n",
       "castle lite    25806\n",
       "Name: QUANTITY, dtype: int64"
      ]
     },
     "execution_count": 43,
     "metadata": {},
     "output_type": "execute_result"
    }
   ],
   "source": [
    "data[data['COUNTRIES']=='Ghana'].groupby(['BRANDS'])['QUANTITY'].sum().sort_values(ascending = False).head(2)"
   ]
  },
  {
   "cell_type": "markdown",
   "metadata": {},
   "source": [
    "The top 2 consumer brands in Ghana are: Eagle lager and Castle lager beer."
   ]
  },
  {
   "cell_type": "code",
   "execution_count": 44,
   "metadata": {},
   "outputs": [],
   "source": [
    "#Find out the details of beers consumed in the past three years in the most oil reach country in West Africa"
   ]
  },
  {
   "cell_type": "code",
   "execution_count": 45,
   "metadata": {},
   "outputs": [],
   "source": [
    "def check_beer(BRANDS):\n",
    "    if (BRANDS=='budweiser') or (BRANDS=='hero') or (BRANDS=='trophy') or (BRANDS=='castle lite') or (BRANDS=='eagle lager'):\n",
    "        return True\n",
    "    else:\n",
    "        return False"
   ]
  },
  {
   "cell_type": "code",
   "execution_count": 46,
   "metadata": {},
   "outputs": [
    {
     "data": {
      "text/plain": [
       "BRANDS\n",
       "budweiser      26153\n",
       "eagle lager    25872\n",
       "hero           25811\n",
       "trophy         25743\n",
       "castle lite    25681\n",
       "Name: QUANTITY, dtype: int64"
      ]
     },
     "execution_count": 46,
     "metadata": {},
     "output_type": "execute_result"
    }
   ],
   "source": [
    "nig = data[data['COUNTRIES'] =='Nigeria']\n",
    "\n",
    "nig[nig['BRANDS'].apply(check_beer)].groupby(['BRANDS'])['QUANTITY'].sum().sort_values(ascending=False)"
   ]
  },
  {
   "cell_type": "markdown",
   "metadata": {},
   "source": [
    "Nigeria is the reach country in west Africa, with Budweiser being the most consumed beer in the country with a total quantity of 26,153, followed by Eagle lager = 25,872, Hero = 25,811, Trophy =25,743 and Castle lite =25,682"
   ]
  },
  {
   "cell_type": "code",
   "execution_count": 47,
   "metadata": {},
   "outputs": [],
   "source": [
    "#Favorites malt brand in Anglophone region between 2018 and 2019"
   ]
  },
  {
   "cell_type": "code",
   "execution_count": 48,
   "metadata": {},
   "outputs": [],
   "source": [
    "def check_malt(BRANDS):\n",
    "    if (BRANDS =='beta malt') or (BRANDS =='grand malt'):\n",
    "        return True\n",
    "    else:\n",
    "        return False"
   ]
  },
  {
   "cell_type": "code",
   "execution_count": 49,
   "metadata": {},
   "outputs": [
    {
     "data": {
      "text/html": [
       "<div>\n",
       "<style scoped>\n",
       "    .dataframe tbody tr th:only-of-type {\n",
       "        vertical-align: middle;\n",
       "    }\n",
       "\n",
       "    .dataframe tbody tr th {\n",
       "        vertical-align: top;\n",
       "    }\n",
       "\n",
       "    .dataframe thead th {\n",
       "        text-align: right;\n",
       "    }\n",
       "</style>\n",
       "<table border=\"1\" class=\"dataframe\">\n",
       "  <thead>\n",
       "    <tr style=\"text-align: right;\">\n",
       "      <th></th>\n",
       "      <th>SALES_ID</th>\n",
       "      <th>SALES_REP</th>\n",
       "      <th>EMAILS</th>\n",
       "      <th>BRANDS</th>\n",
       "      <th>PLANT_COST</th>\n",
       "      <th>UNIT_PRICE</th>\n",
       "      <th>QUANTITY</th>\n",
       "      <th>COST</th>\n",
       "      <th>PROFIT</th>\n",
       "      <th>COUNTRIES</th>\n",
       "      <th>REGION</th>\n",
       "      <th>MONTHS</th>\n",
       "      <th>YEARS</th>\n",
       "    </tr>\n",
       "  </thead>\n",
       "  <tbody>\n",
       "    <tr>\n",
       "      <th>5</th>\n",
       "      <td>10106</td>\n",
       "      <td>Jardine</td>\n",
       "      <td>jard@gmail.com</td>\n",
       "      <td>beta malt</td>\n",
       "      <td>80</td>\n",
       "      <td>150</td>\n",
       "      <td>798</td>\n",
       "      <td>119700</td>\n",
       "      <td>55860</td>\n",
       "      <td>Ghana</td>\n",
       "      <td>northcentral</td>\n",
       "      <td>June</td>\n",
       "      <td>2019</td>\n",
       "    </tr>\n",
       "    <tr>\n",
       "      <th>40</th>\n",
       "      <td>10141</td>\n",
       "      <td>Andrews</td>\n",
       "      <td>andy@gmail.com</td>\n",
       "      <td>beta malt</td>\n",
       "      <td>80</td>\n",
       "      <td>150</td>\n",
       "      <td>894</td>\n",
       "      <td>134100</td>\n",
       "      <td>62580</td>\n",
       "      <td>Ghana</td>\n",
       "      <td>northeast</td>\n",
       "      <td>May</td>\n",
       "      <td>2019</td>\n",
       "    </tr>\n",
       "    <tr>\n",
       "      <th>61</th>\n",
       "      <td>10162</td>\n",
       "      <td>Gill</td>\n",
       "      <td>gillhell@uk.com</td>\n",
       "      <td>beta malt</td>\n",
       "      <td>80</td>\n",
       "      <td>150</td>\n",
       "      <td>931</td>\n",
       "      <td>139650</td>\n",
       "      <td>65170</td>\n",
       "      <td>Nigeria</td>\n",
       "      <td>west</td>\n",
       "      <td>February</td>\n",
       "      <td>2018</td>\n",
       "    </tr>\n",
       "    <tr>\n",
       "      <th>90</th>\n",
       "      <td>10191</td>\n",
       "      <td>Jardine</td>\n",
       "      <td>jard@gmail.com</td>\n",
       "      <td>grand malt</td>\n",
       "      <td>90</td>\n",
       "      <td>150</td>\n",
       "      <td>902</td>\n",
       "      <td>135300</td>\n",
       "      <td>54120</td>\n",
       "      <td>Ghana</td>\n",
       "      <td>Southeast</td>\n",
       "      <td>July</td>\n",
       "      <td>2019</td>\n",
       "    </tr>\n",
       "    <tr>\n",
       "      <th>96</th>\n",
       "      <td>10197</td>\n",
       "      <td>Jones</td>\n",
       "      <td>jone.ai@yahoo.com</td>\n",
       "      <td>beta malt</td>\n",
       "      <td>80</td>\n",
       "      <td>150</td>\n",
       "      <td>896</td>\n",
       "      <td>134400</td>\n",
       "      <td>62720</td>\n",
       "      <td>Nigeria</td>\n",
       "      <td>Southeast</td>\n",
       "      <td>January</td>\n",
       "      <td>2019</td>\n",
       "    </tr>\n",
       "  </tbody>\n",
       "</table>\n",
       "</div>"
      ],
      "text/plain": [
       "    SALES_ID SALES_REP             EMAILS      BRANDS  PLANT_COST  UNIT_PRICE  \\\n",
       "5      10106   Jardine     jard@gmail.com   beta malt          80         150   \n",
       "40     10141   Andrews     andy@gmail.com   beta malt          80         150   \n",
       "61     10162      Gill    gillhell@uk.com   beta malt          80         150   \n",
       "90     10191   Jardine     jard@gmail.com  grand malt          90         150   \n",
       "96     10197     Jones  jone.ai@yahoo.com   beta malt          80         150   \n",
       "\n",
       "    QUANTITY    COST  PROFIT COUNTRIES        REGION     MONTHS  YEARS  \n",
       "5        798  119700   55860     Ghana  northcentral       June   2019  \n",
       "40       894  134100   62580     Ghana     northeast        May   2019  \n",
       "61       931  139650   65170   Nigeria           west  February   2018  \n",
       "90       902  135300   54120     Ghana      Southeast      July   2019  \n",
       "96       896  134400   62720   Nigeria      Southeast   January   2019  "
      ]
     },
     "execution_count": 49,
     "metadata": {},
     "output_type": "execute_result"
    }
   ],
   "source": [
    "brand_anglophone = data[(data['COUNTRIES'].apply(check_anglophone)) & (data['YEARS'].apply(check_year)) & (data['BRANDS'].apply(check_malt))]\n",
    "brand_anglophone.head()\n",
    "                                            "
   ]
  },
  {
   "cell_type": "code",
   "execution_count": 50,
   "metadata": {},
   "outputs": [
    {
     "data": {
      "text/html": [
       "<div>\n",
       "<style scoped>\n",
       "    .dataframe tbody tr th:only-of-type {\n",
       "        vertical-align: middle;\n",
       "    }\n",
       "\n",
       "    .dataframe tbody tr th {\n",
       "        vertical-align: top;\n",
       "    }\n",
       "\n",
       "    .dataframe thead th {\n",
       "        text-align: right;\n",
       "    }\n",
       "</style>\n",
       "<table border=\"1\" class=\"dataframe\">\n",
       "  <thead>\n",
       "    <tr style=\"text-align: right;\">\n",
       "      <th></th>\n",
       "      <th>QUANTITY</th>\n",
       "    </tr>\n",
       "    <tr>\n",
       "      <th>BRANDS</th>\n",
       "      <th></th>\n",
       "    </tr>\n",
       "  </thead>\n",
       "  <tbody>\n",
       "    <tr>\n",
       "      <th>beta malt</th>\n",
       "      <td>32118</td>\n",
       "    </tr>\n",
       "    <tr>\n",
       "      <th>grand malt</th>\n",
       "      <td>33221</td>\n",
       "    </tr>\n",
       "  </tbody>\n",
       "</table>\n",
       "</div>"
      ],
      "text/plain": [
       "            QUANTITY\n",
       "BRANDS              \n",
       "beta malt      32118\n",
       "grand malt     33221"
      ]
     },
     "execution_count": 50,
     "metadata": {},
     "output_type": "execute_result"
    }
   ],
   "source": [
    "brand_anglophone.pivot_table(index = ['BRANDS'], values=['QUANTITY'], aggfunc=(np.sum))"
   ]
  },
  {
   "cell_type": "markdown",
   "metadata": {},
   "source": [
    "The favourite malt drink in the English speaking region(anglophone) is Grand malt"
   ]
  },
  {
   "cell_type": "code",
   "execution_count": 51,
   "metadata": {},
   "outputs": [],
   "source": [
    "#Which brands sold the highest in 2019 in Nigeria"
   ]
  },
  {
   "cell_type": "code",
   "execution_count": 52,
   "metadata": {},
   "outputs": [
    {
     "data": {
      "text/plain": [
       "BRANDS\n",
       "budweiser      1372500\n",
       "castle lite     914760\n",
       "eagle lager     672080\n",
       "beta malt       587230\n",
       "grand malt      487500\n",
       "hero            481100\n",
       "trophy          290150\n",
       "Name: PROFIT, dtype: int64"
      ]
     },
     "execution_count": 52,
     "metadata": {},
     "output_type": "execute_result"
    }
   ],
   "source": [
    "yr_2019[yr_2019['COUNTRIES'] =='Nigeria'].groupby(['BRANDS'])['PROFIT'].sum().sort_values(ascending = False)"
   ]
  },
  {
   "cell_type": "markdown",
   "metadata": {},
   "source": [
    "The brand in Nigeria with the most sales in 2019 is Budweiser, with a total profit of 1,372,500 "
   ]
  },
  {
   "cell_type": "code",
   "execution_count": 53,
   "metadata": {},
   "outputs": [],
   "source": [
    "#Favorites brand in South_South region in Nigeria"
   ]
  },
  {
   "cell_type": "code",
   "execution_count": 54,
   "metadata": {},
   "outputs": [
    {
     "data": {
      "text/plain": [
       "BRANDS\n",
       "eagle lager    4551\n",
       "trophy         4468\n",
       "hero           4456\n",
       "budweiser      4328\n",
       "castle lite    4287\n",
       "beta malt      4257\n",
       "grand malt     3914\n",
       "Name: QUANTITY, dtype: int64"
      ]
     },
     "execution_count": 54,
     "metadata": {},
     "output_type": "execute_result"
    }
   ],
   "source": [
    "nig[nig['REGION ']=='southsouth'].groupby(['BRANDS'])['QUANTITY'].sum().sort_values(ascending =False)"
   ]
  },
  {
   "cell_type": "markdown",
   "metadata": {},
   "source": [
    "The favorite brand in the south south region of Nigeria is Eagle lager"
   ]
  },
  {
   "cell_type": "code",
   "execution_count": 55,
   "metadata": {},
   "outputs": [],
   "source": [
    "#Beer consumption in Nigeria"
   ]
  },
  {
   "cell_type": "code",
   "execution_count": 56,
   "metadata": {},
   "outputs": [
    {
     "data": {
      "text/plain": [
       "BRANDS\n",
       "budweiser      26153\n",
       "eagle lager    25872\n",
       "hero           25811\n",
       "trophy         25743\n",
       "castle lite    25681\n",
       "Name: QUANTITY, dtype: int64"
      ]
     },
     "execution_count": 56,
     "metadata": {},
     "output_type": "execute_result"
    }
   ],
   "source": [
    "nig[nig['BRANDS'].apply(check_beer)].groupby(['BRANDS'])['QUANTITY'].sum().sort_values(ascending =False)"
   ]
  },
  {
   "cell_type": "markdown",
   "metadata": {},
   "source": [
    "Budweiser is the most consumed beer brand in Nigeria"
   ]
  },
  {
   "cell_type": "code",
   "execution_count": 57,
   "metadata": {},
   "outputs": [],
   "source": [
    "#Level of consumption of Budweiser in the regions in Nigeria"
   ]
  },
  {
   "cell_type": "code",
   "execution_count": 58,
   "metadata": {},
   "outputs": [
    {
     "data": {
      "text/plain": [
       "REGION \n",
       "west             4620\n",
       "northcentral     4498\n",
       "southsouth       4328\n",
       "northeast        4320\n",
       "northwest        4274\n",
       "Southeast        4113\n",
       "Name: QUANTITY, dtype: int64"
      ]
     },
     "execution_count": 58,
     "metadata": {},
     "output_type": "execute_result"
    }
   ],
   "source": [
    "nig[nig['BRANDS'] =='budweiser'].groupby(['REGION '])['QUANTITY'].sum().sort_values(ascending =False)"
   ]
  },
  {
   "cell_type": "markdown",
   "metadata": {},
   "source": [
    "The western region in Nigeria have the highest consumption rate of Budweiser in the country"
   ]
  },
  {
   "cell_type": "code",
   "execution_count": null,
   "metadata": {},
   "outputs": [],
   "source": []
  }
 ],
 "metadata": {
  "kernelspec": {
   "display_name": "Python 3",
   "language": "python",
   "name": "python3"
  },
  "language_info": {
   "codemirror_mode": {
    "name": "ipython",
    "version": 3
   },
   "file_extension": ".py",
   "mimetype": "text/x-python",
   "name": "python",
   "nbconvert_exporter": "python",
   "pygments_lexer": "ipython3",
   "version": "3.8.3"
  }
 },
 "nbformat": 4,
 "nbformat_minor": 4
}
